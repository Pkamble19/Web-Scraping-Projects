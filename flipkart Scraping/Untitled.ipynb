{
 "cells": [
  {
   "cell_type": "code",
   "execution_count": 4,
   "id": "7ea71cdd",
   "metadata": {},
   "outputs": [],
   "source": [
    "import pandas as pd\n",
    "import requests\n",
    "from bs4 import BeautifulSoup\n",
    "from csv import writer\n",
    "url='''https://www.flipkart.com/search?q=laptop&sid=6bo%2Cb5g&as=on&as-show=on&otracker=\n",
    "AS_QueryStore_OrganicAutoSuggest_1_3_na_na_na&otracker1=AS_QueryStore_OrganicAutoSuggest_1_3_\n",
    "na_na_na&as-pos=1&as-type=RECENT&suggestionId=laptop%7CLaptops&requestId=ba1c5442-f766-483d-8f02-\n",
    "2fa0d8063874&as-searchtext=lap'''\n",
    "response = requests.get(url)\n",
    "soup = BeautifulSoup(response.content, 'html.parser')\n",
    "lists = soup.find_all('a', attrs={'class': '_1fQZEK'})\n",
    "try:\n",
    "    with open('laptop_info.csv','w',encoding='utf8',newline='') as f:\n",
    "        Thewriter = writer(f)\n",
    "        header=['Name','Processor','Price']\n",
    "        Thewriter.writerow(header)\n",
    "        for sublist in lists:\n",
    "            Name = sublist.find('div', attrs={'class':'_4rR01T'}).string\n",
    "            Price= sublist.find('div', attrs={'class':'_30jeq3'}).string\n",
    "            Processor=sublist.find('li', attrs={'class':'rgWa7D'}).text\n",
    "            info=[Name,Processor,Price]\n",
    "            Thewriter.writerow(info)\n",
    "except AttributeError:\n",
    "    pass"
   ]
  },
  {
   "cell_type": "code",
   "execution_count": null,
   "id": "02b6b3b8",
   "metadata": {},
   "outputs": [],
   "source": []
  }
 ],
 "metadata": {
  "kernelspec": {
   "display_name": "Python 3 (ipykernel)",
   "language": "python",
   "name": "python3"
  },
  "language_info": {
   "codemirror_mode": {
    "name": "ipython",
    "version": 3
   },
   "file_extension": ".py",
   "mimetype": "text/x-python",
   "name": "python",
   "nbconvert_exporter": "python",
   "pygments_lexer": "ipython3",
   "version": "3.9.12"
  }
 },
 "nbformat": 4,
 "nbformat_minor": 5
}
